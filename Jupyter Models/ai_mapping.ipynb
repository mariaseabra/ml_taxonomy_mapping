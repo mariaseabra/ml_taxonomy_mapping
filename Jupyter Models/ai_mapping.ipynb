{
 "cells": [
  {
   "cell_type": "code",
   "execution_count": 22,
   "metadata": {},
   "outputs": [],
   "source": [
    "import pandas as pd\n",
    "from sklearn.feature_extraction.text import TfidfVectorizer\n",
    "from sklearn.metrics.pairwise import cosine_similarity\n",
    "\n",
    "# Load the datasets\n",
    "taxonomy = pd.read_csv('Taxonomy.csv')\n",
    "design_within_reach = pd.read_csv('Design Within Reach.csv')\n",
    "discount_school_supply = pd.read_csv('Discount_School_Supply.csv')"
   ]
  },
  {
   "cell_type": "code",
   "execution_count": 26,
   "metadata": {},
   "outputs": [],
   "source": [
    "def preprocess_text(text):\n",
    "    if isinstance(text, str):\n",
    "        # Lowercase the text\n",
    "        text = text.lower()\n",
    "        # Remove special characters\n",
    "        text = ''.join(e for e in text if e.isalnum() or e.isspace())\n",
    "        return text\n",
    "    else:\n",
    "        return ''"
   ]
  },
  {
   "cell_type": "code",
   "execution_count": 27,
   "metadata": {},
   "outputs": [],
   "source": [
    "# Apply preprocessing to all necessary columns in Taxonomy.csv\n",
    "taxonomy['productType'] = taxonomy['productType'].apply(preprocess_text)\n",
    "taxonomy['category'] = taxonomy['category'].apply(preprocess_text)\n",
    "taxonomy['subCategory'] = taxonomy['subCategory'].apply(preprocess_text)\n",
    "\n",
    "# Apply preprocessing to all necessary columns in the retailer datasets\n",
    "for dataset in [design_within_reach, discount_school_supply]:\n",
    "    dataset['src_pt'] = dataset['src_pt'].apply(preprocess_text)\n",
    "    dataset['src_cat'] = dataset['src_cat'].apply(preprocess_text)\n",
    "    dataset['src_sc'] = dataset['src_sc'].apply(preprocess_text)\n",
    "\n",
    "# Combine productType, category, and subCategory into a single text field for Taxonomy\n",
    "taxonomy['combined'] = taxonomy['productType'] + ' ' + taxonomy['category'] + ' ' + taxonomy['subCategory']"
   ]
  },
  {
   "cell_type": "code",
   "execution_count": 31,
   "metadata": {},
   "outputs": [],
   "source": [
    "# Initialize TF-IDF Vectorizer\n",
    "tfidf_vectorizer = TfidfVectorizer()\n",
    "\n",
    "# Fit and transform the combined text from Taxonomy\n",
    "taxonomy_tfidf = tfidf_vectorizer.fit_transform(taxonomy['combined'])\n",
    "\n",
    "def map_categories(retailer_df, taxonomy_df, vectorizer, taxonomy_tfidf):\n",
    "    # Combine the retailer's categories into a single field\n",
    "    retailer_df['combined'] = retailer_df['src_pt'] + ' ' + retailer_df['src_cat'] + ' ' + retailer_df['src_sc']\n",
    "    \n",
    "    # Transform the retailer's combined text\n",
    "    retailer_tfidf = vectorizer.transform(retailer_df['combined'])\n",
    "    \n",
    "    # Compute cosine similarity between retailer's data and Taxonomy\n",
    "    similarities = cosine_similarity(retailer_tfidf, taxonomy_tfidf)\n",
    "    \n",
    "    # Find the best match for each entry in the retailer's dataset\n",
    "    best_matches = similarities.argmax(axis=1)\n",
    "    \n",
    "    # Assign the best matches to the corresponding columns\n",
    "    retailer_df['ent_pt_2'] = taxonomy_df.iloc[best_matches]['productType'].values\n",
    "    retailer_df['ent_cat_2'] = taxonomy_df.iloc[best_matches]['category'].values\n",
    "    retailer_df['ent_sc_2'] = taxonomy_df.iloc[best_matches]['subCategory'].values\n",
    "\n",
    "    return retailer_df"
   ]
  },
  {
   "cell_type": "code",
   "execution_count": 34,
   "metadata": {},
   "outputs": [
    {
     "name": "stdout",
     "output_type": "stream",
     "text": [
      "Mapping complete. Files saved.\n"
     ]
    }
   ],
   "source": [
    "# Apply the mapping function to both datasets\n",
    "design_within_reach_mapped = map_categories(design_within_reach, taxonomy, tfidf_vectorizer, taxonomy_tfidf)\n",
    "discount_school_supply_mapped = map_categories(discount_school_supply, taxonomy, tfidf_vectorizer, taxonomy_tfidf)\n",
    "\n",
    "# Save the mapped datasets\n",
    "design_within_reach_mapped.to_csv('Design_Within_Reach_Mapped.csv', index=False)\n",
    "discount_school_supply_mapped.to_csv('Discount_School_Supply_Mapped.csv', index=False)\n",
    "\n",
    "print(\"Mapping complete. Files saved.\")"
   ]
  }
 ],
 "metadata": {
  "kernelspec": {
   "display_name": "Python 3",
   "language": "python",
   "name": "python3"
  },
  "language_info": {
   "codemirror_mode": {
    "name": "ipython",
    "version": 3
   },
   "file_extension": ".py",
   "mimetype": "text/x-python",
   "name": "python",
   "nbconvert_exporter": "python",
   "pygments_lexer": "ipython3",
   "version": "3.9.6"
  }
 },
 "nbformat": 4,
 "nbformat_minor": 2
}
